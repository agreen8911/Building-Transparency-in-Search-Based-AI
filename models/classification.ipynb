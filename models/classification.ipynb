{
 "cells": [
  {
   "cell_type": "code",
   "execution_count": null,
   "metadata": {},
   "outputs": [],
   "source": [
    "\n",
    "import pandas as pd\n",
    "from sklearn.model_selection import train_test_split\n",
    "from sklearn.preprocessing import LabelEncoder\n",
    "from sklearn.metrics import accuracy_score\n",
    "from transformers import AutoTokenizer, Trainer, TrainingArguments, DistilBertForSequenceClassification\n",
    "from sklearn.preprocessing import LabelEncoder\n",
    "from sklearn.model_selection import train_test_split\n",
    "from sklearn.utils.class_weight import compute_class_weight\n",
    "from datasets import Dataset, DatasetDict\n",
    "from sklearn.metrics import accuracy_score, precision_recall_fscore_support\n",
    "import numpy as np\n",
    "import torch\n",
    "from torch.nn import CrossEntropyLoss\n",
    "from transformers.modeling_outputs import SequenceClassifierOutput"
   ]
  },
  {
   "cell_type": "markdown",
   "metadata": {},
   "source": [
    "## BERT Classifier (DistilBERT)\n",
    "\n",
    "#### We chose a BERT Classifier for our classification task because we wanted to experiment with a more robust model using a transformer architecture versus a more basic Logistic Regression or SVM model.  Upon researching BERT, we discovered that DistilBERT is a good option compared to traditional BERT by itself.  DistilBERT uses distillation (learns to approximate from a teacher model - BERT) and can really useful producing powerful results with a smaller/faster model."
   ]
  },
  {
   "cell_type": "code",
   "execution_count": 2,
   "metadata": {},
   "outputs": [
    {
     "data": {
      "text/html": [
       "<div>\n",
       "<style scoped>\n",
       "    .dataframe tbody tr th:only-of-type {\n",
       "        vertical-align: middle;\n",
       "    }\n",
       "\n",
       "    .dataframe tbody tr th {\n",
       "        vertical-align: top;\n",
       "    }\n",
       "\n",
       "    .dataframe thead th {\n",
       "        text-align: right;\n",
       "    }\n",
       "</style>\n",
       "<table border=\"1\" class=\"dataframe\">\n",
       "  <thead>\n",
       "    <tr style=\"text-align: right;\">\n",
       "      <th></th>\n",
       "      <th>Question Number</th>\n",
       "      <th>Question</th>\n",
       "      <th>Notes While Testing</th>\n",
       "      <th>Question Category</th>\n",
       "      <th>LLM</th>\n",
       "      <th>Model Version</th>\n",
       "      <th>Explicit Attribution</th>\n",
       "      <th>Date</th>\n",
       "      <th>Attributed Sources</th>\n",
       "      <th>Number of Sources</th>\n",
       "      <th>Are All Source Links Functional</th>\n",
       "      <th>Ads Included in Response</th>\n",
       "      <th>Multi-modal Response</th>\n",
       "    </tr>\n",
       "  </thead>\n",
       "  <tbody>\n",
       "    <tr>\n",
       "      <th>0</th>\n",
       "      <td>1</td>\n",
       "      <td>\"where does the saying keeping up with the jon...</td>\n",
       "      <td>NaN</td>\n",
       "      <td>General Knowledge</td>\n",
       "      <td>gemini</td>\n",
       "      <td>gemini_1.5_pro</td>\n",
       "      <td>explicit_attribution</td>\n",
       "      <td>11/2/24</td>\n",
       "      <td>\"www.commonlit.org, www.history.howstuffworks....</td>\n",
       "      <td>2.0</td>\n",
       "      <td>all_links_functional</td>\n",
       "      <td>no_ads</td>\n",
       "      <td>text_only</td>\n",
       "    </tr>\n",
       "    <tr>\n",
       "      <th>1</th>\n",
       "      <td>2</td>\n",
       "      <td>\"when did day light savings start in the us\"</td>\n",
       "      <td>NaN</td>\n",
       "      <td>History</td>\n",
       "      <td>gemini</td>\n",
       "      <td>gemini_1.5_pro</td>\n",
       "      <td>explicit_attribution</td>\n",
       "      <td>11/2/24</td>\n",
       "      <td>\"www.wikipedia.org\"</td>\n",
       "      <td>1.0</td>\n",
       "      <td>all_links_functional</td>\n",
       "      <td>no_ads</td>\n",
       "      <td>text_only</td>\n",
       "    </tr>\n",
       "    <tr>\n",
       "      <th>2</th>\n",
       "      <td>3</td>\n",
       "      <td>\"what is the doll in the garden about\"</td>\n",
       "      <td>NaN</td>\n",
       "      <td>Entertainment</td>\n",
       "      <td>gemini</td>\n",
       "      <td>gemini_1.5_pro</td>\n",
       "      <td>explicit_attribution</td>\n",
       "      <td>11/2/24</td>\n",
       "      <td>\"www.goodreads.com, amazon.com, www.publishers...</td>\n",
       "      <td>3.0</td>\n",
       "      <td>all_links_functional</td>\n",
       "      <td>no_ads</td>\n",
       "      <td>text_only</td>\n",
       "    </tr>\n",
       "    <tr>\n",
       "      <th>3</th>\n",
       "      <td>4</td>\n",
       "      <td>\"where is a unitary system of government found\"</td>\n",
       "      <td>NaN</td>\n",
       "      <td>Politics</td>\n",
       "      <td>gemini</td>\n",
       "      <td>gemini_1.5_pro</td>\n",
       "      <td>explicit_attribution</td>\n",
       "      <td>11/2/24</td>\n",
       "      <td>\"www.britannica.com, www.guides.skylinecollege...</td>\n",
       "      <td>3.0</td>\n",
       "      <td>all_links_functional</td>\n",
       "      <td>no_ads</td>\n",
       "      <td>text_only</td>\n",
       "    </tr>\n",
       "    <tr>\n",
       "      <th>4</th>\n",
       "      <td>5</td>\n",
       "      <td>\"who dies in season 2 of the originals\"</td>\n",
       "      <td>NaN</td>\n",
       "      <td>Entertainment</td>\n",
       "      <td>gemini</td>\n",
       "      <td>gemini_1.5_pro</td>\n",
       "      <td>explicit_attribution</td>\n",
       "      <td>11/2/24</td>\n",
       "      <td>\"www.wikipedia.org\"</td>\n",
       "      <td>1.0</td>\n",
       "      <td>all_links_functional</td>\n",
       "      <td>no_ads</td>\n",
       "      <td>text_only</td>\n",
       "    </tr>\n",
       "  </tbody>\n",
       "</table>\n",
       "</div>"
      ],
      "text/plain": [
       "   Question Number                                           Question  \\\n",
       "0                1  \"where does the saying keeping up with the jon...   \n",
       "1                2       \"when did day light savings start in the us\"   \n",
       "2                3             \"what is the doll in the garden about\"   \n",
       "3                4    \"where is a unitary system of government found\"   \n",
       "4                5            \"who dies in season 2 of the originals\"   \n",
       "\n",
       "  Notes While Testing  Question Category     LLM   Model Version  \\\n",
       "0                 NaN  General Knowledge  gemini  gemini_1.5_pro   \n",
       "1                 NaN            History  gemini  gemini_1.5_pro   \n",
       "2                 NaN      Entertainment  gemini  gemini_1.5_pro   \n",
       "3                 NaN           Politics  gemini  gemini_1.5_pro   \n",
       "4                 NaN      Entertainment  gemini  gemini_1.5_pro   \n",
       "\n",
       "   Explicit Attribution     Date  \\\n",
       "0  explicit_attribution  11/2/24   \n",
       "1  explicit_attribution  11/2/24   \n",
       "2  explicit_attribution  11/2/24   \n",
       "3  explicit_attribution  11/2/24   \n",
       "4  explicit_attribution  11/2/24   \n",
       "\n",
       "                                  Attributed Sources  Number of Sources  \\\n",
       "0  \"www.commonlit.org, www.history.howstuffworks....                2.0   \n",
       "1                                \"www.wikipedia.org\"                1.0   \n",
       "2  \"www.goodreads.com, amazon.com, www.publishers...                3.0   \n",
       "3  \"www.britannica.com, www.guides.skylinecollege...                3.0   \n",
       "4                                \"www.wikipedia.org\"                1.0   \n",
       "\n",
       "  Are All Source Links Functional Ads Included in Response  \\\n",
       "0            all_links_functional                   no_ads   \n",
       "1            all_links_functional                   no_ads   \n",
       "2            all_links_functional                   no_ads   \n",
       "3            all_links_functional                   no_ads   \n",
       "4            all_links_functional                   no_ads   \n",
       "\n",
       "  Multi-modal Response  \n",
       "0            text_only  \n",
       "1            text_only  \n",
       "2            text_only  \n",
       "3            text_only  \n",
       "4            text_only  "
      ]
     },
     "execution_count": 2,
     "metadata": {},
     "output_type": "execute_result"
    }
   ],
   "source": [
    "data = pd.read_csv('llm_source_attribution_data.csv')\n",
    "data.head()"
   ]
  },
  {
   "cell_type": "code",
   "execution_count": 3,
   "metadata": {},
   "outputs": [
    {
     "data": {
      "text/html": [
       "<div>\n",
       "<style scoped>\n",
       "    .dataframe tbody tr th:only-of-type {\n",
       "        vertical-align: middle;\n",
       "    }\n",
       "\n",
       "    .dataframe tbody tr th {\n",
       "        vertical-align: top;\n",
       "    }\n",
       "\n",
       "    .dataframe thead th {\n",
       "        text-align: right;\n",
       "    }\n",
       "</style>\n",
       "<table border=\"1\" class=\"dataframe\">\n",
       "  <thead>\n",
       "    <tr style=\"text-align: right;\">\n",
       "      <th></th>\n",
       "      <th>Question</th>\n",
       "      <th>Question Category</th>\n",
       "    </tr>\n",
       "  </thead>\n",
       "  <tbody>\n",
       "    <tr>\n",
       "      <th>0</th>\n",
       "      <td>\"where does the saying keeping up with the jon...</td>\n",
       "      <td>General Knowledge</td>\n",
       "    </tr>\n",
       "    <tr>\n",
       "      <th>1</th>\n",
       "      <td>\"when did day light savings start in the us\"</td>\n",
       "      <td>History</td>\n",
       "    </tr>\n",
       "    <tr>\n",
       "      <th>2</th>\n",
       "      <td>\"what is the doll in the garden about\"</td>\n",
       "      <td>Entertainment</td>\n",
       "    </tr>\n",
       "    <tr>\n",
       "      <th>3</th>\n",
       "      <td>\"where is a unitary system of government found\"</td>\n",
       "      <td>Politics</td>\n",
       "    </tr>\n",
       "    <tr>\n",
       "      <th>4</th>\n",
       "      <td>\"who dies in season 2 of the originals\"</td>\n",
       "      <td>Entertainment</td>\n",
       "    </tr>\n",
       "  </tbody>\n",
       "</table>\n",
       "</div>"
      ],
      "text/plain": [
       "                                            Question  Question Category\n",
       "0  \"where does the saying keeping up with the jon...  General Knowledge\n",
       "1       \"when did day light savings start in the us\"            History\n",
       "2             \"what is the doll in the garden about\"      Entertainment\n",
       "3    \"where is a unitary system of government found\"           Politics\n",
       "4            \"who dies in season 2 of the originals\"      Entertainment"
      ]
     },
     "execution_count": 3,
     "metadata": {},
     "output_type": "execute_result"
    }
   ],
   "source": [
    "bert_data = data.drop(columns=['Question Number', 'Notes While Testing', 'LLM', 'Model Version', 'Explicit Attribution', 'Date', 'Attributed Sources', 'Number of Sources', 'Are All Source Links Functional', 'Ads Included in Response', 'Multi-modal Response'])\n",
    "bert_data.head()"
   ]
  },
  {
   "cell_type": "code",
   "execution_count": 4,
   "metadata": {},
   "outputs": [
    {
     "data": {
      "application/vnd.jupyter.widget-view+json": {
       "model_id": "aabf2d37cc384f5fb1fc43a871df569d",
       "version_major": 2,
       "version_minor": 0
      },
      "text/plain": [
       "Map:   0%|          | 0/79 [00:00<?, ? examples/s]"
      ]
     },
     "metadata": {},
     "output_type": "display_data"
    },
    {
     "data": {
      "application/vnd.jupyter.widget-view+json": {
       "model_id": "57d02ceaae004498a5fe0537d079bc43",
       "version_major": 2,
       "version_minor": 0
      },
      "text/plain": [
       "Map:   0%|          | 0/20 [00:00<?, ? examples/s]"
      ]
     },
     "metadata": {},
     "output_type": "display_data"
    },
    {
     "name": "stderr",
     "output_type": "stream",
     "text": [
      "Some weights of WeightedLossModel were not initialized from the model checkpoint at distilbert-base-uncased and are newly initialized: ['classifier.bias', 'classifier.weight', 'pre_classifier.bias', 'pre_classifier.weight']\n",
      "You should probably TRAIN this model on a down-stream task to be able to use it for predictions and inference.\n",
      "/Library/Frameworks/Python.framework/Versions/3.11/lib/python3.11/site-packages/transformers/training_args.py:1568: FutureWarning: `evaluation_strategy` is deprecated and will be removed in version 4.46 of 🤗 Transformers. Use `eval_strategy` instead\n",
      "  warnings.warn(\n",
      "/var/folders/y4/mzcnvkgn2mn06pm9k145blz80000gn/T/ipykernel_13590/612087198.py:75: FutureWarning: `tokenizer` is deprecated and will be removed in version 5.0.0 for `Trainer.__init__`. Use `processing_class` instead.\n",
      "  trainer = Trainer(\n"
     ]
    },
    {
     "data": {
      "application/vnd.jupyter.widget-view+json": {
       "model_id": "72caf5b471d94c4da1e72175b60b19ea",
       "version_major": 2,
       "version_minor": 0
      },
      "text/plain": [
       "  0%|          | 0/200 [00:00<?, ?it/s]"
      ]
     },
     "metadata": {},
     "output_type": "display_data"
    },
    {
     "data": {
      "application/vnd.jupyter.widget-view+json": {
       "model_id": "4787a0d2d7f24c2e85ada7bd2325effa",
       "version_major": 2,
       "version_minor": 0
      },
      "text/plain": [
       "  0%|          | 0/5 [00:00<?, ?it/s]"
      ]
     },
     "metadata": {},
     "output_type": "display_data"
    },
    {
     "name": "stdout",
     "output_type": "stream",
     "text": [
      "{'eval_loss': 2.3623037338256836, 'eval_accuracy': 0.3, 'eval_precision': 0.275, 'eval_recall': 0.3, 'eval_f1': 0.2857142857142857, 'eval_runtime': 0.3791, 'eval_samples_per_second': 52.759, 'eval_steps_per_second': 13.19, 'epoch': 1.0}\n"
     ]
    },
    {
     "data": {
      "application/vnd.jupyter.widget-view+json": {
       "model_id": "1cded4c8dd5748f587480486e9439c88",
       "version_major": 2,
       "version_minor": 0
      },
      "text/plain": [
       "  0%|          | 0/5 [00:00<?, ?it/s]"
      ]
     },
     "metadata": {},
     "output_type": "display_data"
    },
    {
     "name": "stdout",
     "output_type": "stream",
     "text": [
      "{'eval_loss': 2.297442674636841, 'eval_accuracy': 0.4, 'eval_precision': 0.2909090909090909, 'eval_recall': 0.4, 'eval_f1': 0.3333333333333333, 'eval_runtime': 0.3675, 'eval_samples_per_second': 54.427, 'eval_steps_per_second': 13.607, 'epoch': 2.0}\n"
     ]
    },
    {
     "data": {
      "application/vnd.jupyter.widget-view+json": {
       "model_id": "5e07a80e76e04533a758ab533aa22e2f",
       "version_major": 2,
       "version_minor": 0
      },
      "text/plain": [
       "  0%|          | 0/5 [00:00<?, ?it/s]"
      ]
     },
     "metadata": {},
     "output_type": "display_data"
    },
    {
     "name": "stdout",
     "output_type": "stream",
     "text": [
      "{'eval_loss': 2.1945159435272217, 'eval_accuracy': 0.5, 'eval_precision': 0.3166666666666667, 'eval_recall': 0.5, 'eval_f1': 0.38646616541353385, 'eval_runtime': 0.3581, 'eval_samples_per_second': 55.851, 'eval_steps_per_second': 13.963, 'epoch': 3.0}\n"
     ]
    },
    {
     "data": {
      "application/vnd.jupyter.widget-view+json": {
       "model_id": "f25125da37ee4832bf0a9bbd29643ae0",
       "version_major": 2,
       "version_minor": 0
      },
      "text/plain": [
       "  0%|          | 0/5 [00:00<?, ?it/s]"
      ]
     },
     "metadata": {},
     "output_type": "display_data"
    },
    {
     "name": "stdout",
     "output_type": "stream",
     "text": [
      "{'eval_loss': 2.103670358657837, 'eval_accuracy': 0.55, 'eval_precision': 0.5352272727272727, 'eval_recall': 0.55, 'eval_f1': 0.4807936507936508, 'eval_runtime': 0.3584, 'eval_samples_per_second': 55.811, 'eval_steps_per_second': 13.953, 'epoch': 4.0}\n"
     ]
    },
    {
     "data": {
      "application/vnd.jupyter.widget-view+json": {
       "model_id": "ddf257e85c07433a9192ccc8a86cec83",
       "version_major": 2,
       "version_minor": 0
      },
      "text/plain": [
       "  0%|          | 0/5 [00:00<?, ?it/s]"
      ]
     },
     "metadata": {},
     "output_type": "display_data"
    },
    {
     "name": "stdout",
     "output_type": "stream",
     "text": [
      "{'eval_loss': 2.02793550491333, 'eval_accuracy': 0.5, 'eval_precision': 0.5225, 'eval_recall': 0.5, 'eval_f1': 0.4556302521008403, 'eval_runtime': 0.3594, 'eval_samples_per_second': 55.655, 'eval_steps_per_second': 13.914, 'epoch': 5.0}\n"
     ]
    },
    {
     "data": {
      "application/vnd.jupyter.widget-view+json": {
       "model_id": "1816ef5a90ff450c8700ffa74bc408a8",
       "version_major": 2,
       "version_minor": 0
      },
      "text/plain": [
       "  0%|          | 0/5 [00:00<?, ?it/s]"
      ]
     },
     "metadata": {},
     "output_type": "display_data"
    },
    {
     "name": "stdout",
     "output_type": "stream",
     "text": [
      "{'eval_loss': 1.9570499658584595, 'eval_accuracy': 0.5, 'eval_precision': 0.5727272727272726, 'eval_recall': 0.5, 'eval_f1': 0.4722222222222222, 'eval_runtime': 0.359, 'eval_samples_per_second': 55.714, 'eval_steps_per_second': 13.929, 'epoch': 6.0}\n"
     ]
    },
    {
     "data": {
      "application/vnd.jupyter.widget-view+json": {
       "model_id": "6e765c250c6d4ce0ab4ff5970f2f48a7",
       "version_major": 2,
       "version_minor": 0
      },
      "text/plain": [
       "  0%|          | 0/5 [00:00<?, ?it/s]"
      ]
     },
     "metadata": {},
     "output_type": "display_data"
    },
    {
     "name": "stdout",
     "output_type": "stream",
     "text": [
      "{'eval_loss': 1.9033527374267578, 'eval_accuracy': 0.6, 'eval_precision': 0.635, 'eval_recall': 0.6, 'eval_f1': 0.5453781512605043, 'eval_runtime': 0.3594, 'eval_samples_per_second': 55.641, 'eval_steps_per_second': 13.91, 'epoch': 7.0}\n"
     ]
    },
    {
     "data": {
      "application/vnd.jupyter.widget-view+json": {
       "model_id": "fd130e62598f4de892764cb6e50941f4",
       "version_major": 2,
       "version_minor": 0
      },
      "text/plain": [
       "  0%|          | 0/5 [00:00<?, ?it/s]"
      ]
     },
     "metadata": {},
     "output_type": "display_data"
    },
    {
     "name": "stdout",
     "output_type": "stream",
     "text": [
      "{'eval_loss': 1.873721718788147, 'eval_accuracy': 0.6, 'eval_precision': 0.6283333333333333, 'eval_recall': 0.6, 'eval_f1': 0.5815686274509804, 'eval_runtime': 0.3589, 'eval_samples_per_second': 55.731, 'eval_steps_per_second': 13.933, 'epoch': 8.0}\n"
     ]
    },
    {
     "data": {
      "application/vnd.jupyter.widget-view+json": {
       "model_id": "871613329bd849328ceb3c16d4aa71c5",
       "version_major": 2,
       "version_minor": 0
      },
      "text/plain": [
       "  0%|          | 0/5 [00:00<?, ?it/s]"
      ]
     },
     "metadata": {},
     "output_type": "display_data"
    },
    {
     "name": "stdout",
     "output_type": "stream",
     "text": [
      "{'eval_loss': 1.8453611135482788, 'eval_accuracy': 0.55, 'eval_precision': 0.5977272727272727, 'eval_recall': 0.55, 'eval_f1': 0.5055555555555555, 'eval_runtime': 0.3587, 'eval_samples_per_second': 55.752, 'eval_steps_per_second': 13.938, 'epoch': 9.0}\n"
     ]
    },
    {
     "data": {
      "application/vnd.jupyter.widget-view+json": {
       "model_id": "5f366e5052b64ec68161d2ed5daea788",
       "version_major": 2,
       "version_minor": 0
      },
      "text/plain": [
       "  0%|          | 0/5 [00:00<?, ?it/s]"
      ]
     },
     "metadata": {},
     "output_type": "display_data"
    },
    {
     "name": "stdout",
     "output_type": "stream",
     "text": [
      "{'eval_loss': 1.8373782634735107, 'eval_accuracy': 0.55, 'eval_precision': 0.5977272727272727, 'eval_recall': 0.55, 'eval_f1': 0.5055555555555555, 'eval_runtime': 0.3688, 'eval_samples_per_second': 54.228, 'eval_steps_per_second': 13.557, 'epoch': 10.0}\n",
      "{'train_runtime': 61.9309, 'train_samples_per_second': 12.756, 'train_steps_per_second': 3.229, 'train_loss': 1.8285108947753905, 'epoch': 10.0}\n"
     ]
    },
    {
     "data": {
      "application/vnd.jupyter.widget-view+json": {
       "model_id": "9427c6386f804bacbc8800e069dce90d",
       "version_major": 2,
       "version_minor": 0
      },
      "text/plain": [
       "  0%|          | 0/5 [00:00<?, ?it/s]"
      ]
     },
     "metadata": {},
     "output_type": "display_data"
    },
    {
     "name": "stdout",
     "output_type": "stream",
     "text": [
      "Evaluation Metrics: {'eval_loss': 1.873721718788147, 'eval_accuracy': 0.6, 'eval_precision': 0.6283333333333333, 'eval_recall': 0.6, 'eval_f1': 0.5815686274509804, 'eval_runtime': 0.3766, 'eval_samples_per_second': 53.102, 'eval_steps_per_second': 13.276, 'epoch': 10.0}\n",
      "Text: What is the capital of France?\n",
      "Predicted Label: Geography\n",
      "Text: Explain the theory of relativity.\n",
      "Predicted Label: Science & Technology\n",
      "Text: Who won the World Cup in 2018?\n",
      "Predicted Label: Sports\n"
     ]
    }
   ],
   "source": [
    "device = torch.device(\"mps\" if torch.backends.mps.is_available() else \"cpu\")\n",
    "\n",
    "X_basic = bert_data['Question'][:99]\n",
    "y_basic = bert_data['Question Category'][:99]\n",
    "\n",
    "label_encoder = LabelEncoder()\n",
    "y_encoded = label_encoder.fit_transform(y_basic)\n",
    "\n",
    "X_train, X_test, y_train, y_test = train_test_split(X_basic, y_encoded, test_size=0.2, random_state=42)\n",
    "\n",
    "class_weights = compute_class_weight(\n",
    "    class_weight=\"balanced\",\n",
    "    classes=np.unique(y_train),\n",
    "    y=y_train\n",
    ")\n",
    "class_weights_tensor = torch.tensor(class_weights, dtype=torch.float).to(device)\n",
    "\n",
    "train_dataset = Dataset.from_dict({\"text\": list(X_train), \"labels\": list(y_train)})\n",
    "test_dataset = Dataset.from_dict({\"text\": list(X_test), \"labels\": list(y_test)})\n",
    "dataset = DatasetDict({\"train\": train_dataset, \"test\": test_dataset})\n",
    "\n",
    "model_name = \"distilbert-base-uncased\"\n",
    "tokenizer = AutoTokenizer.from_pretrained(model_name)\n",
    "\n",
    "def tokenize_function(example):\n",
    "    return tokenizer(example[\"text\"], truncation=True, padding=\"max_length\", max_length=512)\n",
    "\n",
    "encoded_dataset = dataset.map(tokenize_function, batched=True)\n",
    "\n",
    "def compute_metrics(eval_pred):\n",
    "    logits, labels = eval_pred\n",
    "    predictions = np.argmax(logits, axis=-1)\n",
    "    accuracy = accuracy_score(labels, predictions)\n",
    "    precision, recall, f1, _ = precision_recall_fscore_support(labels, predictions, average=\"weighted\", zero_division=0)\n",
    "    return {\n",
    "        \"accuracy\": accuracy,\n",
    "        \"precision\": precision,\n",
    "        \"recall\": recall,\n",
    "        \"f1\": f1,\n",
    "    }\n",
    "\n",
    "\n",
    "class WeightedLossModel(DistilBertForSequenceClassification):\n",
    "    def forward(self, input_ids=None, attention_mask=None, labels=None):\n",
    "        outputs = super().forward(input_ids=input_ids, attention_mask=attention_mask, labels=None)\n",
    "        logits = outputs.logits\n",
    "\n",
    "        loss = None\n",
    "        if labels is not None:\n",
    "            loss = CrossEntropyLoss(weight=class_weights_tensor)(logits, labels)\n",
    "\n",
    "        return SequenceClassifierOutput(loss=loss, logits=logits)\n",
    "\n",
    "\n",
    "\n",
    "model = WeightedLossModel.from_pretrained(model_name, num_labels=len(label_encoder.classes_))\n",
    "model = model.to(device)\n",
    "\n",
    "training_args = TrainingArguments(\n",
    "    output_dir=\"./results\",\n",
    "    evaluation_strategy=\"epoch\",\n",
    "    save_strategy=\"epoch\",\n",
    "    learning_rate=2e-5,\n",
    "    per_device_train_batch_size=4,\n",
    "    per_device_eval_batch_size=4,\n",
    "    num_train_epochs=10,\n",
    "    weight_decay=0.01,\n",
    "    logging_dir=\"./logs\",\n",
    "    load_best_model_at_end=True,\n",
    "    metric_for_best_model=\"f1\",\n",
    "    greater_is_better=True,\n",
    "    save_total_limit=2,\n",
    ")\n",
    "\n",
    "trainer = Trainer(\n",
    "    model=model,\n",
    "    args=training_args,\n",
    "    train_dataset=encoded_dataset[\"train\"],\n",
    "    eval_dataset=encoded_dataset[\"test\"],\n",
    "    tokenizer=tokenizer,\n",
    "    compute_metrics=compute_metrics,\n",
    ")\n",
    "\n",
    "trainer.train()\n",
    "\n",
    "model.save_pretrained(\"./fine_tuned_model\")\n",
    "tokenizer.save_pretrained(\"./fine_tuned_model\")\n",
    "\n",
    "metrics = trainer.evaluate()\n",
    "print(\"Evaluation Metrics:\", metrics)\n",
    "\n",
    "new_samples = [\n",
    "    \"What is the capital of France?\",\n",
    "    \"Explain the theory of relativity.\",\n",
    "    \"Who won the World Cup in 2018?\"\n",
    "]\n",
    "\n",
    "tokens = tokenizer(new_samples, truncation=True, padding=True, max_length=256, return_tensors=\"pt\")\n",
    "tokens = {key: val.to(device) for key, val in tokens.items()} \n",
    "\n",
    "model.eval()\n",
    "with torch.no_grad():\n",
    "    outputs = model(**tokens)\n",
    "    logits = outputs.logits\n",
    "    probabilities = torch.nn.functional.softmax(logits, dim=1)\n",
    "    predicted_classes = probabilities.argmax(dim=1).cpu().numpy()\n",
    "\n",
    "predicted_labels = label_encoder.inverse_transform(predicted_classes)\n",
    "\n",
    "for sample, label in zip(new_samples, predicted_labels):\n",
    "    print(f\"Text: {sample}\")\n",
    "    print(f\"Predicted Label: {label}\")\n",
    "\n",
    "\n"
   ]
  },
  {
   "cell_type": "markdown",
   "metadata": {},
   "source": [
    "#### Testing some additional questions"
   ]
  },
  {
   "cell_type": "code",
   "execution_count": 5,
   "metadata": {},
   "outputs": [
    {
     "name": "stdout",
     "output_type": "stream",
     "text": [
      "Question: What is the longest river in the world?\n",
      "Predicted Label: Geography\n",
      "Question: What is Newton's second law of motion?\n",
      "Predicted Label: Geography\n",
      "Question: Who was the first President of the United States?\n",
      "Predicted Label: History\n",
      "Question: Which country hosted the 2016 Summer Olympics?\n",
      "Predicted Label: Geography\n",
      "Question: Who wrote 'Pride and Prejudice'?\n",
      "Predicted Label: Entertainment\n",
      "Question: What is the meaning of existentialism?\n",
      "Predicted Label: History\n",
      "Question: What is the difference between a bull market and a bear market?\n",
      "Predicted Label: Economics & Commerce\n",
      "Question: Who directed the movie 'Inception'?\n",
      "Predicted Label: Entertainment\n",
      "Question: How do you make a classic Margherita pizza?\n",
      "Predicted Label: Entertainment\n",
      "Question: What is the primary role of the United Nations?\n",
      "Predicted Label: History\n"
     ]
    }
   ],
   "source": [
    "\n",
    "sample_questions = [\n",
    "    \"What is the longest river in the world?\",\n",
    "    \"What is Newton's second law of motion?\",\n",
    "    \"Who was the first President of the United States?\",\n",
    "    \"Which country hosted the 2016 Summer Olympics?\",\n",
    "    \"Who wrote 'Pride and Prejudice'?\",\n",
    "    \"What is the meaning of existentialism?\",\n",
    "    \"What is the difference between a bull market and a bear market?\",\n",
    "    \"Who directed the movie 'Inception'?\",\n",
    "    \"How do you make a classic Margherita pizza?\",\n",
    "    \"What is the primary role of the United Nations?\"\n",
    "]\n",
    "\n",
    "tokens = tokenizer(sample_questions, truncation=True, padding=True, max_length=256, return_tensors=\"pt\")\n",
    "tokens = {key: val.to(device) for key, val in tokens.items()}\n",
    "\n",
    "model.eval()\n",
    "with torch.no_grad():\n",
    "    outputs = model(**tokens)\n",
    "    logits = outputs.logits\n",
    "    probabilities = torch.nn.functional.softmax(logits, dim=1)\n",
    "    predicted_classes = probabilities.argmax(dim=1).cpu().numpy()  \n",
    "\n",
    "predicted_labels = label_encoder.inverse_transform(predicted_classes)\n",
    "\n",
    "for question, label in zip(sample_questions, predicted_labels):\n",
    "    print(f\"Question: {question}\")\n",
    "    print(f\"Predicted Label: {label}\")"
   ]
  },
  {
   "cell_type": "markdown",
   "metadata": {},
   "source": [
    "## Comments:"
   ]
  },
  {
   "cell_type": "markdown",
   "metadata": {},
   "source": [
    "#### We chose this model because of its contextual understanding of text, pretrained knowledge base, and model customization.  We did test various hyperparameters in our model, including learning rate, batch size, and number of epochs.  Something we saw consistently in all of these tests is the model seemed to plateau around mid way point of the number of epochs, possibly indicating the model was struggling with generalization. Although the classification performance metrics were not very good (slightly above average), we believe with additional hyperparamter tuning and perhaps with a larger dataset, we will see significantly better performance metrics."
   ]
  }
 ],
 "metadata": {
  "kernelspec": {
   "display_name": "Python 3",
   "language": "python",
   "name": "python3"
  },
  "language_info": {
   "codemirror_mode": {
    "name": "ipython",
    "version": 3
   },
   "file_extension": ".py",
   "mimetype": "text/x-python",
   "name": "python",
   "nbconvert_exporter": "python",
   "pygments_lexer": "ipython3",
   "version": "3.11.3"
  }
 },
 "nbformat": 4,
 "nbformat_minor": 2
}
